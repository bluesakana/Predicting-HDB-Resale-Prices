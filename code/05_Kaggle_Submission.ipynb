{
 "cells": [
  {
   "cell_type": "markdown",
   "id": "e7ec2d7b-4bdc-4a9c-9969-d43fa3e8adbd",
   "metadata": {},
   "source": [
    "<img src=\"../images/GA-logo.png\" style=\"float: left; margin: 20px; height: 55px\">\n",
    "\n",
    "# Project 2: Singapore Housing Data and Kaggle Challenge"
   ]
  },
  {
   "cell_type": "markdown",
   "id": "60229062-63e1-4be5-a563-51a710a6f6c7",
   "metadata": {},
   "source": [
    "**Primary Learning Objectives:**\n",
    "\n",
    "1. Creating and iteratively refining a regression model\n",
    "2. Using Kaggle to practice the modeling process\n",
    "3. Providing business insights through reporting and presentation.\n",
    "\n",
    "We will clean the data and build a regression model based on Singapore Housing Dataset to predict the price of a house at sale.\n",
    "\n",
    "This jupyter notebook focuses on predicting the resale price with the test dataset using the production model and exporting the predictions.\n",
    "\n",
    "----"
   ]
  },
  {
   "cell_type": "markdown",
   "id": "b194c657-e642-4440-85a9-589439bee524",
   "metadata": {},
   "source": [
    "### Contents:\n",
    "- [Data and Model Import](#Data-and-Model-Import)\n",
    "- [Predictions Generation and Export](#Predictions-Generation-and-Export)"
   ]
  },
  {
   "cell_type": "code",
   "execution_count": 1,
   "id": "7068f473-ebcb-4e08-a1ad-00f8c849a0e8",
   "metadata": {},
   "outputs": [],
   "source": [
    "import dill\n",
    "import pandas as pd\n",
    "import numpy as np\n",
    "\n",
    "from sklearn.impute import KNNImputer\n",
    "from sklearn.preprocessing import OneHotEncoder, FunctionTransformer, PolynomialFeatures\n",
    "from sklearn.compose import ColumnTransformer, TransformedTargetRegressor\n",
    "from sklearn.pipeline import Pipeline\n",
    "from sklearn.linear_model import LinearRegression\n",
    "\n",
    "from subsegment_model import SubsegmentModel\n",
    "from data_cleaning import generate_segments"
   ]
  },
  {
   "cell_type": "markdown",
   "id": "95de1ae5-b907-4353-9cad-61651d39a1b6",
   "metadata": {},
   "source": [
    "----\n",
    "\n",
    "## Data and Model Import"
   ]
  },
  {
   "cell_type": "code",
   "execution_count": 2,
   "id": "2e122472-345d-4a7f-8ede-86c0bc8d39ca",
   "metadata": {},
   "outputs": [
    {
     "name": "stderr",
     "output_type": "stream",
     "text": [
      "C:\\Users\\fishe\\AppData\\Local\\Temp\\ipykernel_5012\\3061335787.py:2: DtypeWarning: Columns (40) have mixed types. Specify dtype option on import or set low_memory=False.\n",
      "  test_df = pd.read_csv('../datasets/test.csv', index_col='id')\n"
     ]
    }
   ],
   "source": [
    "# load test dataset\n",
    "test_df = pd.read_csv('../datasets/test.csv', index_col='id')"
   ]
  },
  {
   "cell_type": "code",
   "execution_count": 3,
   "id": "da09ce01-3e95-4208-8778-91966aba3930",
   "metadata": {},
   "outputs": [],
   "source": [
    "# load segment mapping\n",
    "segment_mapping = dill.load(open('../models/planning_area_mapping.sav', 'rb'))"
   ]
  },
  {
   "cell_type": "code",
   "execution_count": 4,
   "id": "87986be0-5da4-4b9d-b7c7-5627ca5c8f1a",
   "metadata": {},
   "outputs": [],
   "source": [
    "# preprocessing steps for test dataset\n",
    "# lower case all column names\n",
    "test_df.columns=test_df.columns.str.strip().str.lower() \n",
    "\n",
    "# impute missing values for hawker_within_2km\n",
    "test_df['hawker_within_2km'].fillna(0, inplace=True)\n",
    "\n",
    "# construct segments\n",
    "test_df['planning_area_grouped'] = test_df['planning_area'].map(segment_mapping)"
   ]
  },
  {
   "cell_type": "code",
   "execution_count": 5,
   "id": "70d881b4-4016-4482-b198-023cae2504a3",
   "metadata": {
    "tags": []
   },
   "outputs": [],
   "source": [
    "# import production model\n",
    "model_production = dill.load(open('../models/model_production.sav', 'rb'))"
   ]
  },
  {
   "cell_type": "markdown",
   "id": "87157995-1ac9-47f0-b7cc-80e9d933ba7a",
   "metadata": {},
   "source": [
    "----\n",
    "\n",
    "## Predictions Generation and Export"
   ]
  },
  {
   "cell_type": "code",
   "execution_count": 6,
   "id": "898ac679-39da-4e10-a746-fc7023550a60",
   "metadata": {},
   "outputs": [
    {
     "name": "stderr",
     "output_type": "stream",
     "text": [
      "C:\\ProgramData\\Anaconda3\\envs\\dsi-sg\\lib\\site-packages\\sklearn\\preprocessing\\_encoders.py:188: UserWarning: Found unknown categories in columns [1] during transform. These unknown categories will be encoded as all zeros\n",
      "  warnings.warn(\n"
     ]
    }
   ],
   "source": [
    "# make predictions\n",
    "y_pred = model_production.predict(test_df)"
   ]
  },
  {
   "cell_type": "code",
   "execution_count": 7,
   "id": "de4d47d6-03a9-4c96-bfe4-dd8520d96122",
   "metadata": {},
   "outputs": [],
   "source": [
    "# export predictions in submission format\n",
    "subm_df = pd.concat([test_df.index.to_series(), pd.DataFrame(y_pred, columns=['Predicted'])], axis=1)\n",
    "\n",
    "subm_df.to_csv('../datasets/submission_v4.csv', index=False)"
   ]
  }
 ],
 "metadata": {
  "kernelspec": {
   "display_name": "Python [conda env:dsi-sg]",
   "language": "python",
   "name": "conda-env-dsi-sg-py"
  },
  "language_info": {
   "codemirror_mode": {
    "name": "ipython",
    "version": 3
   },
   "file_extension": ".py",
   "mimetype": "text/x-python",
   "name": "python",
   "nbconvert_exporter": "python",
   "pygments_lexer": "ipython3",
   "version": "3.9.13"
  }
 },
 "nbformat": 4,
 "nbformat_minor": 5
}
