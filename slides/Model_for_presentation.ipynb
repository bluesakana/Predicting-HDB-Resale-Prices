{
 "cells": [
  {
   "cell_type": "markdown",
   "id": "dbe1a9a4-c971-4f8a-a06d-ea794ad66edb",
   "metadata": {},
   "source": [
    "<img src=\"../images/GA-logo.png\" style=\"float: left; margin: 20px; height: 55px\">\n",
    "\n",
    "# Project 2: Singapore Housing Data and Kaggle Challenge"
   ]
  },
  {
   "cell_type": "markdown",
   "id": "7e5e3aea-b988-4c59-90b9-1f170d3bea1c",
   "metadata": {},
   "source": [
    "**Primary Learning Objectives:**\n",
    "\n",
    "1. Creating and iteratively refining a regression model\n",
    "2. Using Kaggle to practice the modeling process\n",
    "3. Providing business insights through reporting and presentation.\n",
    "\n",
    "We will clean the data and build a regression model based on Singapore Housing Dataset to predict the price of a house at sale.\n",
    "\n",
    "This jupyter notebook focuses on running and evaluating the model used for presentation.\n",
    "\n",
    "----"
   ]
  },
  {
   "cell_type": "markdown",
   "id": "14924eed-c314-4a23-8adb-712eb054d898",
   "metadata": {},
   "source": [
    "## Imports"
   ]
  },
  {
   "cell_type": "code",
   "execution_count": 2,
   "id": "d1571574-a159-4b71-b185-063e2540d3e5",
   "metadata": {},
   "outputs": [],
   "source": [
    "# import libraries\n",
    "import pandas as pd\n",
    "import numpy as np\n",
    "\n",
    "from sklearn.impute import KNNImputer\n",
    "from sklearn.preprocessing import OneHotEncoder, FunctionTransformer, PolynomialFeatures\n",
    "from sklearn.compose import ColumnTransformer, TransformedTargetRegressor\n",
    "from sklearn.pipeline import Pipeline\n",
    "from sklearn.dummy import DummyRegressor\n",
    "from sklearn.linear_model import LinearRegression\n",
    "from sklearn.model_selection import train_test_split, cross_val_score\n",
    "from sklearn.metrics import r2_score, mean_absolute_percentage_error, mean_squared_error\n",
    "\n",
    "# from copy import deepcopy\n",
    "\n",
    "import dill\n",
    "\n",
    "%matplotlib inline"
   ]
  },
  {
   "cell_type": "markdown",
   "id": "88904ac5-4d55-4ead-aa3a-1f15b874e537",
   "metadata": {},
   "source": [
    "## Functions"
   ]
  },
  {
   "cell_type": "code",
   "execution_count": 3,
   "id": "ef111d01-b769-4c07-912e-ff2e4ced29b6",
   "metadata": {},
   "outputs": [],
   "source": [
    "# function to get central/outside central based on postal code\n",
    "def get_central(postal):    \n",
    "    # mapping\n",
    "    map_from=list(range(1,83))\n",
    "\n",
    "    map_to=[1,1,1,1,1,1,2,2,4,4,\n",
    "            5,5,5,3,3,3,6,7,7,8,\n",
    "            8,9,9,10,10,10,10,11,11,11,\n",
    "            12,12,12,13,13,13,13,14,14,14,\n",
    "            14,15,15,15,15,16,16,16,17,17,\n",
    "            18,18,19,19,19,20,20,21,21,22,\n",
    "            22,22,22,22,23,23,23,23,24,24,\n",
    "            24,25,25,'74',27,27,26,26,28,28,\n",
    "            17,19]\n",
    "    \n",
    "    # take first 2 digits\n",
    "    #raw_district = postal.astype(str).str.zfill(6)\n",
    "    #raw_district = raw_district.str.slice(0,2)\n",
    "    raw_district = postal.astype(int) // 10000\n",
    "    \n",
    "    district = raw_district.replace(map_from,map_to)\n",
    "    \n",
    "    central = district <= 11\n",
    "    \n",
    "    return central"
   ]
  },
  {
   "cell_type": "code",
   "execution_count": 4,
   "id": "b87fcb37-5729-4164-9bca-ae373474a84b",
   "metadata": {},
   "outputs": [],
   "source": [
    "def test_metric(model, X_train, X_test, y_train, y_test, metric='r2_score', cv=5):\n",
    "    \"\"\"\n",
    "    Function to return specified test metric for train, validation and test sets\n",
    "    \n",
    "    Parameters\n",
    "    ----------\n",
    "       \n",
    "    model: sklearn model on the outcome variable\n",
    "        model to run predictions on\n",
    "    \n",
    "    X_train: pandas Dataframe\n",
    "        training predictor dataset\n",
    "    \n",
    "    X_test: pandas Dataframe\n",
    "        test predictor dataset\n",
    "        \n",
    "    y_train: pandas Series/Dataframe\n",
    "        training outcome dataset\n",
    "        \n",
    "    y_test: pandas Series/Dataframe\n",
    "        test outcome dataset\n",
    "\n",
    "    metric: str\n",
    "        'r2_score' - evaluates R2 score (default)\n",
    "        'rmse' - evaluates root mean squared error\n",
    "        'rmape' - evaluates root mean absolute percentage error\n",
    "        \n",
    "    cv: int\n",
    "        number of cross validation folds (default = 5)\n",
    "        \n",
    "    Returns\n",
    "    -------\n",
    "    Prints out metric in 3 lines\n",
    "    \n",
    "    \"\"\"\n",
    "    \n",
    "    # import libraries\n",
    "    from sklearn.metrics import r2_score, mean_absolute_percentage_error, mean_squared_error\n",
    "    from sklearn.model_selection import cross_val_score\n",
    "    import numpy as np\n",
    "    \n",
    "    # if modifier == 'linear':\n",
    "    #     y_pred_train = model.predict(X_train)\n",
    "    #     y_pred_test = model.predict(X_test)\n",
    "    # elif modifier == 'log':\n",
    "    #     y_pred_train = np.exp(model.predict(X_train))\n",
    "    #     y_pred_test = np.exp(model.predict(X_test))\n",
    "    #     y_train = np.exp(y_train)\n",
    "    #     y_test = np.exp(y_test)\n",
    "    \n",
    "    # generate predictions\n",
    "    #y_pred_train = model.predict(preproc.transform(X_train))\n",
    "    #y_pred_test = model.predict(preproc.transform(X_test))\n",
    "    y_pred_train = model.predict(X_train)\n",
    "    y_pred_test = model.predict(X_test)\n",
    "    \n",
    "    # select function to use\n",
    "    if metric == 'r2_score':\n",
    "        train_metric = r2_score(y_train, y_pred_train)\n",
    "        try:\n",
    "            cross_metric = cross_val_score(model, X_train, y_train, scoring='r2')\n",
    "        except: # except clause to catch custom class which does not have 'clone' methods needed for cross_val_score function to work. We write a custom cross_val_score and use this custom function instead\n",
    "            cross_metric = cross_val_score_custom(model, X_train, y_train, cv=cv, scoring='r2')\n",
    "        test_metric = r2_score(y_test, y_pred_test)\n",
    "        \n",
    "    elif metric == 'rmse':\n",
    "        train_metric = mean_squared_error(y_train, y_pred_train, squared=False)\n",
    "        try:\n",
    "            cross_metric = -1 * cross_val_score(model, X_train, y_train, cv=cv, scoring='neg_root_mean_squared_error')\n",
    "        except:\n",
    "            cross_metric = -1 * cross_val_score_custom(model, X_train, y_train, cv=cv, scoring='neg_root_mean_squared_error')\n",
    "        test_metric = mean_squared_error(y_test, y_pred_test, squared=False)\n",
    "        \n",
    "    elif metric == 'rmape':\n",
    "        train_metric = mean_absolute_percentage_error(y_train, y_pred_train)\n",
    "        try:\n",
    "            cross_metric = -1 * cross_val_score(model, X_train, y_train, cv=cv, scoring='neg_mean_absolute_percentage_error')\n",
    "        except:\n",
    "            cross_metric = -1 * cross_val_score_custom(model, X_train, y_train, cv=cv, scoring='neg_mean_absolute_percentage_error')\n",
    "        test_metric = mean_absolute_percentage_error(y_test, y_pred_test)\n",
    "        \n",
    "    else:\n",
    "        print('ERROR: Invalid metric chosen')\n",
    "        return\n",
    "        \n",
    "    print(f'Train {metric.upper()}:           \\t{train_metric:.4f}')\n",
    "    print(f'{cv}-Fold CV {metric.upper()}:     \\t{np.nanmean(cross_metric):.4f}')\n",
    "    print(f'Test {metric.upper()}:            \\t{test_metric:.4f}')\n"
   ]
  },
  {
   "cell_type": "markdown",
   "id": "d5a022e0-03f6-434e-8174-79ed2ae6e497",
   "metadata": {},
   "source": [
    "## Data Import and Processing"
   ]
  },
  {
   "cell_type": "code",
   "execution_count": 5,
   "id": "7fd4a559-dce5-40f2-972e-adb329d8fc0a",
   "metadata": {},
   "outputs": [
    {
     "name": "stderr",
     "output_type": "stream",
     "text": [
      "C:\\Users\\fishe\\AppData\\Local\\Temp\\ipykernel_11076\\3481060378.py:2: DtypeWarning: Columns (41) have mixed types. Specify dtype option on import or set low_memory=False.\n",
      "  housing_df = pd.read_csv('../datasets/train_cleaned.csv')\n"
     ]
    }
   ],
   "source": [
    "# read in clean dataset\n",
    "housing_df = pd.read_csv('../datasets/train_cleaned.csv')"
   ]
  },
  {
   "cell_type": "code",
   "execution_count": 6,
   "id": "d832bade-97a7-4ff2-bded-127a663d3ab2",
   "metadata": {},
   "outputs": [],
   "source": [
    "# create outcome variable y which will be the same for all models\n",
    "y = housing_df['resale_price']"
   ]
  },
  {
   "cell_type": "code",
   "execution_count": 7,
   "id": "f545bf1e-21da-48b2-a82c-5dc9e7205d69",
   "metadata": {
    "scrolled": true,
    "tags": []
   },
   "outputs": [],
   "source": [
    "# impute NIL postal codes first\n",
    "housing_df.loc[(housing_df['postal'] == 'NIL') & (housing_df['town'] == 'SENGKANG'), 'postal'] = '540000'\n",
    "housing_df.loc[(housing_df['postal'] == 'NIL') & (housing_df['town'] == 'CHOA CHU KANG'), 'postal'] = '670000'"
   ]
  },
  {
   "cell_type": "code",
   "execution_count": 8,
   "id": "37b913ae-05c8-4a10-83bf-14e7378416cd",
   "metadata": {},
   "outputs": [],
   "source": [
    "# convert postal to central districts or outside central districts\n",
    "housing_df['central_or_not'] = get_central(housing_df['postal'])"
   ]
  },
  {
   "cell_type": "code",
   "execution_count": 9,
   "id": "239d6b12-0176-4472-a2b1-dec90bac6944",
   "metadata": {},
   "outputs": [],
   "source": [
    "# convert mid_storey to 3 categories\n",
    "housing_df['floor_range'] = ['low' if x <= 15 else 'mid' if x <= 30 else 'high' for x in housing_df['mid_storey']]"
   ]
  },
  {
   "cell_type": "code",
   "execution_count": 11,
   "id": "4bb5a757-a9b4-47ac-b181-1fa3819e6155",
   "metadata": {},
   "outputs": [],
   "source": [
    "# full model variables to be extracted from clean dataset that will be used to different extents by different models\n",
    "cat_var_list = [\n",
    "                'planning_area', \n",
    "                'flat_type',\n",
    "                'flat_model',\n",
    "                'full_flat_type',\n",
    "                'floor_range',\n",
    "                'tranc_year', 'tranc_month'\n",
    "               ]\n",
    "num_var_list = [\n",
    "                'hdb_age', 'mid', 'floor_area_sqft', 'central_or_not', 'max_floor_lvl',\n",
    "                'hawker_nearest_distance',\n",
    "                'mrt_nearest_distance',\n",
    "                'mall_nearest_distance', 'longitude', 'latitude'\n",
    "               ]\n",
    "\n",
    "X = housing_df[cat_var_list + num_var_list]\n"
   ]
  },
  {
   "cell_type": "code",
   "execution_count": 12,
   "id": "87ce7db7-38c8-4570-991a-1a8ddd20508d",
   "metadata": {},
   "outputs": [],
   "source": [
    "# conduct train-test-split for model tuning and evaluation\n",
    "X_train, X_test, y_train, y_test = train_test_split(X, y, random_state=123, stratify=X[['floor_range', 'central_or_not']])"
   ]
  },
  {
   "cell_type": "markdown",
   "id": "70859249-ca9f-4bac-b3b2-f49b1eccbf7f",
   "metadata": {},
   "source": [
    "## Model Construction"
   ]
  },
  {
   "cell_type": "code",
   "execution_count": 13,
   "id": "e357966a-b4e5-4407-bcde-dd93d08f4a84",
   "metadata": {},
   "outputs": [],
   "source": [
    "# dummy identity scaler to passthrough variables selected without further adjustments\n",
    "identity_transformer = FunctionTransformer(lambda x: x, feature_names_out='one-to-one')"
   ]
  },
  {
   "cell_type": "code",
   "execution_count": 14,
   "id": "85383ae7-2d05-419d-875f-b14909650c8c",
   "metadata": {},
   "outputs": [],
   "source": [
    "# create one-hot encoder object\n",
    "cat_transformer = OneHotEncoder(drop='first', sparse=False, handle_unknown='ignore')"
   ]
  },
  {
   "cell_type": "code",
   "execution_count": 15,
   "id": "e7a944a5-ac52-4392-b076-03c77f92dce1",
   "metadata": {},
   "outputs": [],
   "source": [
    "# create imputer for mall_nearest_distance\n",
    "imp_transformer = KNNImputer()"
   ]
  },
  {
   "cell_type": "markdown",
   "id": "3d8f3a5e-ceb3-4860-a9b4-1029443badc0",
   "metadata": {},
   "source": [
    "### Baseline Model"
   ]
  },
  {
   "cell_type": "code",
   "execution_count": 16,
   "id": "8bc3683b-61ff-40ff-8d34-3086ac19ab69",
   "metadata": {},
   "outputs": [
    {
     "data": {
      "text/html": [
       "<style>#sk-container-id-1 {color: black;background-color: white;}#sk-container-id-1 pre{padding: 0;}#sk-container-id-1 div.sk-toggleable {background-color: white;}#sk-container-id-1 label.sk-toggleable__label {cursor: pointer;display: block;width: 100%;margin-bottom: 0;padding: 0.3em;box-sizing: border-box;text-align: center;}#sk-container-id-1 label.sk-toggleable__label-arrow:before {content: \"▸\";float: left;margin-right: 0.25em;color: #696969;}#sk-container-id-1 label.sk-toggleable__label-arrow:hover:before {color: black;}#sk-container-id-1 div.sk-estimator:hover label.sk-toggleable__label-arrow:before {color: black;}#sk-container-id-1 div.sk-toggleable__content {max-height: 0;max-width: 0;overflow: hidden;text-align: left;background-color: #f0f8ff;}#sk-container-id-1 div.sk-toggleable__content pre {margin: 0.2em;color: black;border-radius: 0.25em;background-color: #f0f8ff;}#sk-container-id-1 input.sk-toggleable__control:checked~div.sk-toggleable__content {max-height: 200px;max-width: 100%;overflow: auto;}#sk-container-id-1 input.sk-toggleable__control:checked~label.sk-toggleable__label-arrow:before {content: \"▾\";}#sk-container-id-1 div.sk-estimator input.sk-toggleable__control:checked~label.sk-toggleable__label {background-color: #d4ebff;}#sk-container-id-1 div.sk-label input.sk-toggleable__control:checked~label.sk-toggleable__label {background-color: #d4ebff;}#sk-container-id-1 input.sk-hidden--visually {border: 0;clip: rect(1px 1px 1px 1px);clip: rect(1px, 1px, 1px, 1px);height: 1px;margin: -1px;overflow: hidden;padding: 0;position: absolute;width: 1px;}#sk-container-id-1 div.sk-estimator {font-family: monospace;background-color: #f0f8ff;border: 1px dotted black;border-radius: 0.25em;box-sizing: border-box;margin-bottom: 0.5em;}#sk-container-id-1 div.sk-estimator:hover {background-color: #d4ebff;}#sk-container-id-1 div.sk-parallel-item::after {content: \"\";width: 100%;border-bottom: 1px solid gray;flex-grow: 1;}#sk-container-id-1 div.sk-label:hover label.sk-toggleable__label {background-color: #d4ebff;}#sk-container-id-1 div.sk-serial::before {content: \"\";position: absolute;border-left: 1px solid gray;box-sizing: border-box;top: 0;bottom: 0;left: 50%;z-index: 0;}#sk-container-id-1 div.sk-serial {display: flex;flex-direction: column;align-items: center;background-color: white;padding-right: 0.2em;padding-left: 0.2em;position: relative;}#sk-container-id-1 div.sk-item {position: relative;z-index: 1;}#sk-container-id-1 div.sk-parallel {display: flex;align-items: stretch;justify-content: center;background-color: white;position: relative;}#sk-container-id-1 div.sk-item::before, #sk-container-id-1 div.sk-parallel-item::before {content: \"\";position: absolute;border-left: 1px solid gray;box-sizing: border-box;top: 0;bottom: 0;left: 50%;z-index: -1;}#sk-container-id-1 div.sk-parallel-item {display: flex;flex-direction: column;z-index: 1;position: relative;background-color: white;}#sk-container-id-1 div.sk-parallel-item:first-child::after {align-self: flex-end;width: 50%;}#sk-container-id-1 div.sk-parallel-item:last-child::after {align-self: flex-start;width: 50%;}#sk-container-id-1 div.sk-parallel-item:only-child::after {width: 0;}#sk-container-id-1 div.sk-dashed-wrapped {border: 1px dashed gray;margin: 0 0.4em 0.5em 0.4em;box-sizing: border-box;padding-bottom: 0.4em;background-color: white;}#sk-container-id-1 div.sk-label label {font-family: monospace;font-weight: bold;display: inline-block;line-height: 1.2em;}#sk-container-id-1 div.sk-label-container {text-align: center;}#sk-container-id-1 div.sk-container {/* jupyter's `normalize.less` sets `[hidden] { display: none; }` but bootstrap.min.css set `[hidden] { display: none !important; }` so we also need the `!important` here to be able to override the default hidden behavior on the sphinx rendered scikit-learn.org. See: https://github.com/scikit-learn/scikit-learn/issues/21755 */display: inline-block !important;position: relative;}#sk-container-id-1 div.sk-text-repr-fallback {display: none;}</style><div id=\"sk-container-id-1\" class=\"sk-top-container\"><div class=\"sk-text-repr-fallback\"><pre>DummyRegressor()</pre><b>In a Jupyter environment, please rerun this cell to show the HTML representation or trust the notebook. <br />On GitHub, the HTML representation is unable to render, please try loading this page with nbviewer.org.</b></div><div class=\"sk-container\" hidden><div class=\"sk-item\"><div class=\"sk-estimator sk-toggleable\"><input class=\"sk-toggleable__control sk-hidden--visually\" id=\"sk-estimator-id-1\" type=\"checkbox\" checked><label for=\"sk-estimator-id-1\" class=\"sk-toggleable__label sk-toggleable__label-arrow\">DummyRegressor</label><div class=\"sk-toggleable__content\"><pre>DummyRegressor()</pre></div></div></div></div></div>"
      ],
      "text/plain": [
       "DummyRegressor()"
      ]
     },
     "execution_count": 16,
     "metadata": {},
     "output_type": "execute_result"
    }
   ],
   "source": [
    "# baseline model\n",
    "base_model = DummyRegressor(strategy='mean')\n",
    "\n",
    "base_model.fit(X_train, y_train)"
   ]
  },
  {
   "cell_type": "code",
   "execution_count": 17,
   "id": "94d85edb-3e54-4981-a0f3-f58662dfcfc8",
   "metadata": {
    "tags": []
   },
   "outputs": [
    {
     "name": "stdout",
     "output_type": "stream",
     "text": [
      "Train RMSE:           \t143416.0302\n",
      "5-Fold CV RMSE:     \t143414.1520\n",
      "Test RMSE:            \t142980.0749\n",
      "Train RMAPE:           \t0.2614\n",
      "5-Fold CV RMAPE:     \t0.2614\n",
      "Test RMAPE:            \t0.2610\n"
     ]
    }
   ],
   "source": [
    "test_metric(base_model, X_train, X_test, y_train, y_test, metric='rmse')\n",
    "\n",
    "test_metric(base_model, X_train, X_test, y_train, y_test, metric='rmape')"
   ]
  },
  {
   "cell_type": "markdown",
   "id": "31cd68d2-8296-467d-a94b-c79590e876c1",
   "metadata": {},
   "source": [
    "### Model A"
   ]
  },
  {
   "cell_type": "code",
   "execution_count": 18,
   "id": "1d5069f6-4c69-4441-8bcf-38f66afb8758",
   "metadata": {},
   "outputs": [
    {
     "name": "stderr",
     "output_type": "stream",
     "text": [
      "C:\\ProgramData\\Anaconda3\\envs\\dsi-sg\\lib\\site-packages\\sklearn\\preprocessing\\_encoders.py:188: UserWarning: Found unknown categories in columns [1] during transform. These unknown categories will be encoded as all zeros\n",
      "  warnings.warn(\n"
     ]
    },
    {
     "name": "stdout",
     "output_type": "stream",
     "text": [
      "Train RMSE:           \t84895.2167\n",
      "5-Fold CV RMSE:     \t84938.0074\n",
      "Test RMSE:            \t84375.2978\n"
     ]
    },
    {
     "name": "stderr",
     "output_type": "stream",
     "text": [
      "C:\\ProgramData\\Anaconda3\\envs\\dsi-sg\\lib\\site-packages\\sklearn\\preprocessing\\_encoders.py:188: UserWarning: Found unknown categories in columns [1] during transform. These unknown categories will be encoded as all zeros\n",
      "  warnings.warn(\n"
     ]
    },
    {
     "name": "stdout",
     "output_type": "stream",
     "text": [
      "Train RMAPE:           \t0.1379\n",
      "5-Fold CV RMAPE:     \t0.1380\n",
      "Test RMAPE:            \t0.1374\n"
     ]
    }
   ],
   "source": [
    "cat_var_list_E2 = [\n",
    "    'flat_type',\n",
    "    'flat_model',\n",
    "    'tranc_year', 'tranc_month'\n",
    "]\n",
    "\n",
    "num_var_list_E2 = [\n",
    "    'floor_area_sqft', 'central_or_not'\n",
    "    \n",
    "]\n",
    "\n",
    "preprocessor_E2 = Pipeline(\n",
    "    steps=[\n",
    "        ('trans', ColumnTransformer(\n",
    "            transformers=[\n",
    "                ('cat', cat_transformer, cat_var_list_E2),\n",
    "                ('dummy', identity_transformer, num_var_list_E2) # identity transform all variables except last one which is the mall_nearest_distance\n",
    "            ],\n",
    "            remainder='drop', verbose_feature_names_out=False\n",
    "            )\n",
    "        )\n",
    "    ]\n",
    ")\n",
    "\n",
    "model_E2 = Pipeline(\n",
    "    steps=[\n",
    "        ('preproc', preprocessor_E2),\n",
    "        ('lr', LinearRegression())\n",
    "    ]\n",
    ")\n",
    "\n",
    "model_E2.fit(X_train, y_train)\n",
    "\n",
    "test_metric(model_E2, X_train, X_test, y_train, y_test, metric='rmse')\n",
    "\n",
    "test_metric(model_E2, X_train, X_test, y_train, y_test, metric='rmape')"
   ]
  },
  {
   "cell_type": "markdown",
   "id": "d6dbb5ec-04dc-4055-bcb2-63cbb15295a2",
   "metadata": {},
   "source": [
    "### Model B"
   ]
  },
  {
   "cell_type": "code",
   "execution_count": 19,
   "id": "06bf0283-790b-43d1-8005-6c380f711615",
   "metadata": {},
   "outputs": [
    {
     "name": "stderr",
     "output_type": "stream",
     "text": [
      "C:\\ProgramData\\Anaconda3\\envs\\dsi-sg\\lib\\site-packages\\sklearn\\preprocessing\\_encoders.py:188: UserWarning: Found unknown categories in columns [1] during transform. These unknown categories will be encoded as all zeros\n",
      "  warnings.warn(\n"
     ]
    },
    {
     "name": "stdout",
     "output_type": "stream",
     "text": [
      "Train RMSE:           \t73416.4948\n",
      "5-Fold CV RMSE:     \t73454.6081\n",
      "Test RMSE:            \t73229.0758\n"
     ]
    },
    {
     "name": "stderr",
     "output_type": "stream",
     "text": [
      "C:\\ProgramData\\Anaconda3\\envs\\dsi-sg\\lib\\site-packages\\sklearn\\preprocessing\\_encoders.py:188: UserWarning: Found unknown categories in columns [1] during transform. These unknown categories will be encoded as all zeros\n",
      "  warnings.warn(\n"
     ]
    },
    {
     "name": "stdout",
     "output_type": "stream",
     "text": [
      "Train RMAPE:           \t0.1220\n",
      "5-Fold CV RMAPE:     \t0.1221\n",
      "Test RMAPE:            \t0.1216\n"
     ]
    }
   ],
   "source": [
    "cat_var_list_E3 = [\n",
    "    'flat_type',\n",
    "    'flat_model',\n",
    "    'floor_range',\n",
    "    'tranc_year', 'tranc_month'\n",
    "]\n",
    "\n",
    "num_var_list_E3 = [\n",
    "    'hdb_age','floor_area_sqft', 'central_or_not', 'max_floor_lvl'\n",
    "    \n",
    "]\n",
    "\n",
    "preprocessor_E3 = Pipeline(\n",
    "    steps=[\n",
    "        ('trans', ColumnTransformer(\n",
    "            transformers=[\n",
    "                ('cat', cat_transformer, cat_var_list_E3),\n",
    "                ('dummy', identity_transformer, num_var_list_E3) # identity transform all variables except last one which is the mall_nearest_distance\n",
    "            ],\n",
    "            remainder='drop', verbose_feature_names_out=False\n",
    "            )\n",
    "        )\n",
    "    ]\n",
    ")\n",
    "\n",
    "model_E3 = Pipeline(\n",
    "    steps=[\n",
    "        ('preproc', preprocessor_E3),\n",
    "        ('lr', LinearRegression())\n",
    "    ]\n",
    ")\n",
    "\n",
    "model_E3.fit(X_train, y_train)\n",
    "\n",
    "test_metric(model_E3, X_train, X_test, y_train, y_test, metric='rmse')\n",
    "\n",
    "test_metric(model_E3, X_train, X_test, y_train, y_test, metric='rmape')"
   ]
  },
  {
   "cell_type": "markdown",
   "id": "7b21cc32-8487-4ae4-8b92-8cd34bff08b0",
   "metadata": {},
   "source": [
    "### Model C"
   ]
  },
  {
   "cell_type": "code",
   "execution_count": 20,
   "id": "4761dfdd-bdb2-4773-b180-d527cac30c9f",
   "metadata": {},
   "outputs": [
    {
     "name": "stderr",
     "output_type": "stream",
     "text": [
      "C:\\ProgramData\\Anaconda3\\envs\\dsi-sg\\lib\\site-packages\\sklearn\\preprocessing\\_encoders.py:188: UserWarning: Found unknown categories in columns [1] during transform. These unknown categories will be encoded as all zeros\n",
      "  warnings.warn(\n"
     ]
    },
    {
     "name": "stdout",
     "output_type": "stream",
     "text": [
      "Train RMSE:           \t68772.4852\n",
      "5-Fold CV RMSE:     \t68812.4353\n",
      "Test RMSE:            \t68406.7375\n"
     ]
    },
    {
     "name": "stderr",
     "output_type": "stream",
     "text": [
      "C:\\ProgramData\\Anaconda3\\envs\\dsi-sg\\lib\\site-packages\\sklearn\\preprocessing\\_encoders.py:188: UserWarning: Found unknown categories in columns [1] during transform. These unknown categories will be encoded as all zeros\n",
      "  warnings.warn(\n"
     ]
    },
    {
     "name": "stdout",
     "output_type": "stream",
     "text": [
      "Train RMAPE:           \t0.1143\n",
      "5-Fold CV RMAPE:     \t0.1143\n",
      "Test RMAPE:            \t0.1136\n"
     ]
    }
   ],
   "source": [
    "cat_var_list_E4 = [\n",
    "    'flat_type',\n",
    "    'flat_model',\n",
    "    'floor_range',\n",
    "    'tranc_year', 'tranc_month'\n",
    "]\n",
    "\n",
    "num_var_list_E4 = [\n",
    "    'hdb_age', 'floor_area_sqft', 'central_or_not', 'max_floor_lvl',\n",
    "    'hawker_nearest_distance',\n",
    "    'mrt_nearest_distance'\n",
    "]\n",
    "\n",
    "preprocessor_E4 = Pipeline(\n",
    "    steps=[\n",
    "        ('trans', ColumnTransformer(\n",
    "            transformers=[\n",
    "                ('cat', cat_transformer, cat_var_list_E4),\n",
    "                ('imp', imp_transformer, ['mall_nearest_distance']),\n",
    "                ('dummy', identity_transformer, num_var_list_E4) # identity transform all variables except last one which is the mall_nearest_distance\n",
    "            ],\n",
    "            remainder='drop', verbose_feature_names_out=False\n",
    "            )\n",
    "        )\n",
    "    ]\n",
    ")\n",
    "\n",
    "model_E4 = Pipeline(\n",
    "    steps=[\n",
    "        ('preproc', preprocessor_E4),\n",
    "        ('lr', LinearRegression())\n",
    "    ]\n",
    ")\n",
    "\n",
    "model_E4.fit(X_train, y_train)\n",
    "\n",
    "test_metric(model_E4, X_train, X_test, y_train, y_test, metric='rmse')\n",
    "\n",
    "test_metric(model_E4, X_train, X_test, y_train, y_test, metric='rmape')"
   ]
  },
  {
   "cell_type": "code",
   "execution_count": 23,
   "id": "40042fd9-cdd8-492b-9a3d-29792024a1ec",
   "metadata": {},
   "outputs": [],
   "source": [
    "# Backing out coefficients of variables\n",
    "model_coef = pd.DataFrame(model_E4['lr'].coef_.transpose(), \n",
    "                          index=model_E4['preproc'].get_feature_names_out(),\n",
    "                          columns=['coefficient']\n",
    "                         )\n",
    "\n",
    "model_coef.reset_index(inplace=True)\n",
    "model_coef.rename(columns={'index':'variable'}, inplace=True)\n",
    "model_coef.sort_values(by='coefficient', ascending=False, inplace=True)"
   ]
  },
  {
   "cell_type": "code",
   "execution_count": 22,
   "id": "53ad3150-4172-4877-82cc-099a2a538739",
   "metadata": {
    "scrolled": true,
    "tags": []
   },
   "outputs": [
    {
     "data": {
      "text/html": [
       "<div>\n",
       "<style scoped>\n",
       "    .dataframe tbody tr th:only-of-type {\n",
       "        vertical-align: middle;\n",
       "    }\n",
       "\n",
       "    .dataframe tbody tr th {\n",
       "        vertical-align: top;\n",
       "    }\n",
       "\n",
       "    .dataframe thead th {\n",
       "        text-align: right;\n",
       "    }\n",
       "</style>\n",
       "<table border=\"1\" class=\"dataframe\">\n",
       "  <thead>\n",
       "    <tr style=\"text-align: right;\">\n",
       "      <th></th>\n",
       "      <th>variable</th>\n",
       "      <th>coefficient</th>\n",
       "    </tr>\n",
       "  </thead>\n",
       "  <tbody>\n",
       "    <tr>\n",
       "      <th>22</th>\n",
       "      <td>flat_model_Terrace</td>\n",
       "      <td>414332.653031</td>\n",
       "    </tr>\n",
       "    <tr>\n",
       "      <th>10</th>\n",
       "      <td>flat_model_Improved-Maisonette</td>\n",
       "      <td>143494.544975</td>\n",
       "    </tr>\n",
       "    <tr>\n",
       "      <th>24</th>\n",
       "      <td>flat_model_Type S2</td>\n",
       "      <td>121885.556601</td>\n",
       "    </tr>\n",
       "    <tr>\n",
       "      <th>19</th>\n",
       "      <td>flat_model_Premium Maisonette</td>\n",
       "      <td>110935.457333</td>\n",
       "    </tr>\n",
       "    <tr>\n",
       "      <th>8</th>\n",
       "      <td>flat_model_DBSS</td>\n",
       "      <td>108257.267751</td>\n",
       "    </tr>\n",
       "    <tr>\n",
       "      <th>13</th>\n",
       "      <td>flat_model_Model A-Maisonette</td>\n",
       "      <td>94840.943084</td>\n",
       "    </tr>\n",
       "    <tr>\n",
       "      <th>50</th>\n",
       "      <td>central_or_not</td>\n",
       "      <td>84449.448514</td>\n",
       "    </tr>\n",
       "    <tr>\n",
       "      <th>5</th>\n",
       "      <td>flat_type_MULTI-GENERATION</td>\n",
       "      <td>72687.271936</td>\n",
       "    </tr>\n",
       "    <tr>\n",
       "      <th>15</th>\n",
       "      <td>flat_model_Multi Generation</td>\n",
       "      <td>72687.271936</td>\n",
       "    </tr>\n",
       "    <tr>\n",
       "      <th>6</th>\n",
       "      <td>flat_model_Adjoined flat</td>\n",
       "      <td>70720.889112</td>\n",
       "    </tr>\n",
       "    <tr>\n",
       "      <th>18</th>\n",
       "      <td>flat_model_Premium Apartment Loft</td>\n",
       "      <td>68261.984267</td>\n",
       "    </tr>\n",
       "    <tr>\n",
       "      <th>11</th>\n",
       "      <td>flat_model_Maisonette</td>\n",
       "      <td>49897.351918</td>\n",
       "    </tr>\n",
       "    <tr>\n",
       "      <th>2</th>\n",
       "      <td>flat_type_4 ROOM</td>\n",
       "      <td>39836.615489</td>\n",
       "    </tr>\n",
       "    <tr>\n",
       "      <th>4</th>\n",
       "      <td>flat_type_EXECUTIVE</td>\n",
       "      <td>35409.359175</td>\n",
       "    </tr>\n",
       "    <tr>\n",
       "      <th>3</th>\n",
       "      <td>flat_type_5 ROOM</td>\n",
       "      <td>35032.793182</td>\n",
       "    </tr>\n",
       "    <tr>\n",
       "      <th>23</th>\n",
       "      <td>flat_model_Type S1</td>\n",
       "      <td>32281.269300</td>\n",
       "    </tr>\n",
       "    <tr>\n",
       "      <th>1</th>\n",
       "      <td>flat_type_3 ROOM</td>\n",
       "      <td>28556.847789</td>\n",
       "    </tr>\n",
       "    <tr>\n",
       "      <th>27</th>\n",
       "      <td>tranc_year_2013</td>\n",
       "      <td>14102.171375</td>\n",
       "    </tr>\n",
       "    <tr>\n",
       "      <th>51</th>\n",
       "      <td>max_floor_lvl</td>\n",
       "      <td>6324.313745</td>\n",
       "    </tr>\n",
       "    <tr>\n",
       "      <th>46</th>\n",
       "      <td>tranc_month_12</td>\n",
       "      <td>4318.042427</td>\n",
       "    </tr>\n",
       "    <tr>\n",
       "      <th>0</th>\n",
       "      <td>flat_type_2 ROOM</td>\n",
       "      <td>2437.624942</td>\n",
       "    </tr>\n",
       "    <tr>\n",
       "      <th>36</th>\n",
       "      <td>tranc_month_2</td>\n",
       "      <td>2152.174924</td>\n",
       "    </tr>\n",
       "    <tr>\n",
       "      <th>44</th>\n",
       "      <td>tranc_month_10</td>\n",
       "      <td>1641.038400</td>\n",
       "    </tr>\n",
       "    <tr>\n",
       "      <th>45</th>\n",
       "      <td>tranc_month_11</td>\n",
       "      <td>1550.124644</td>\n",
       "    </tr>\n",
       "    <tr>\n",
       "      <th>37</th>\n",
       "      <td>tranc_month_3</td>\n",
       "      <td>1239.842062</td>\n",
       "    </tr>\n",
       "    <tr>\n",
       "      <th>39</th>\n",
       "      <td>tranc_month_5</td>\n",
       "      <td>1208.984478</td>\n",
       "    </tr>\n",
       "    <tr>\n",
       "      <th>38</th>\n",
       "      <td>tranc_month_4</td>\n",
       "      <td>761.663539</td>\n",
       "    </tr>\n",
       "    <tr>\n",
       "      <th>49</th>\n",
       "      <td>floor_area_sqft</td>\n",
       "      <td>317.442291</td>\n",
       "    </tr>\n",
       "    <tr>\n",
       "      <th>41</th>\n",
       "      <td>tranc_month_7</td>\n",
       "      <td>300.407315</td>\n",
       "    </tr>\n",
       "    <tr>\n",
       "      <th>47</th>\n",
       "      <td>mall_nearest_distance</td>\n",
       "      <td>10.995597</td>\n",
       "    </tr>\n",
       "    <tr>\n",
       "      <th>52</th>\n",
       "      <td>hawker_nearest_distance</td>\n",
       "      <td>-18.370460</td>\n",
       "    </tr>\n",
       "    <tr>\n",
       "      <th>53</th>\n",
       "      <td>mrt_nearest_distance</td>\n",
       "      <td>-46.536592</td>\n",
       "    </tr>\n",
       "    <tr>\n",
       "      <th>43</th>\n",
       "      <td>tranc_month_9</td>\n",
       "      <td>-77.045565</td>\n",
       "    </tr>\n",
       "    <tr>\n",
       "      <th>40</th>\n",
       "      <td>tranc_month_6</td>\n",
       "      <td>-283.284333</td>\n",
       "    </tr>\n",
       "    <tr>\n",
       "      <th>42</th>\n",
       "      <td>tranc_month_8</td>\n",
       "      <td>-406.321539</td>\n",
       "    </tr>\n",
       "    <tr>\n",
       "      <th>48</th>\n",
       "      <td>hdb_age</td>\n",
       "      <td>-2267.646307</td>\n",
       "    </tr>\n",
       "    <tr>\n",
       "      <th>35</th>\n",
       "      <td>tranc_year_2021</td>\n",
       "      <td>-4208.375409</td>\n",
       "    </tr>\n",
       "    <tr>\n",
       "      <th>7</th>\n",
       "      <td>flat_model_Apartment</td>\n",
       "      <td>-8664.039163</td>\n",
       "    </tr>\n",
       "    <tr>\n",
       "      <th>21</th>\n",
       "      <td>flat_model_Standard</td>\n",
       "      <td>-9086.115523</td>\n",
       "    </tr>\n",
       "    <tr>\n",
       "      <th>28</th>\n",
       "      <td>tranc_year_2014</td>\n",
       "      <td>-14328.222177</td>\n",
       "    </tr>\n",
       "    <tr>\n",
       "      <th>20</th>\n",
       "      <td>flat_model_Simplified</td>\n",
       "      <td>-21639.949728</td>\n",
       "    </tr>\n",
       "    <tr>\n",
       "      <th>26</th>\n",
       "      <td>floor_range_mid</td>\n",
       "      <td>-30944.103796</td>\n",
       "    </tr>\n",
       "    <tr>\n",
       "      <th>16</th>\n",
       "      <td>flat_model_New Generation</td>\n",
       "      <td>-31491.250143</td>\n",
       "    </tr>\n",
       "    <tr>\n",
       "      <th>29</th>\n",
       "      <td>tranc_year_2015</td>\n",
       "      <td>-32542.874829</td>\n",
       "    </tr>\n",
       "    <tr>\n",
       "      <th>30</th>\n",
       "      <td>tranc_year_2016</td>\n",
       "      <td>-33801.344413</td>\n",
       "    </tr>\n",
       "    <tr>\n",
       "      <th>34</th>\n",
       "      <td>tranc_year_2020</td>\n",
       "      <td>-36039.566031</td>\n",
       "    </tr>\n",
       "    <tr>\n",
       "      <th>9</th>\n",
       "      <td>flat_model_Improved</td>\n",
       "      <td>-36288.726599</td>\n",
       "    </tr>\n",
       "    <tr>\n",
       "      <th>31</th>\n",
       "      <td>tranc_year_2017</td>\n",
       "      <td>-36905.306471</td>\n",
       "    </tr>\n",
       "    <tr>\n",
       "      <th>17</th>\n",
       "      <td>flat_model_Premium Apartment</td>\n",
       "      <td>-42959.006352</td>\n",
       "    </tr>\n",
       "    <tr>\n",
       "      <th>32</th>\n",
       "      <td>tranc_year_2018</td>\n",
       "      <td>-45133.043992</td>\n",
       "    </tr>\n",
       "    <tr>\n",
       "      <th>33</th>\n",
       "      <td>tranc_year_2019</td>\n",
       "      <td>-48867.180518</td>\n",
       "    </tr>\n",
       "    <tr>\n",
       "      <th>12</th>\n",
       "      <td>flat_model_Model A</td>\n",
       "      <td>-53379.017897</td>\n",
       "    </tr>\n",
       "    <tr>\n",
       "      <th>25</th>\n",
       "      <td>floor_range_low</td>\n",
       "      <td>-75298.807070</td>\n",
       "    </tr>\n",
       "    <tr>\n",
       "      <th>14</th>\n",
       "      <td>flat_model_Model A2</td>\n",
       "      <td>-84133.061155</td>\n",
       "    </tr>\n",
       "  </tbody>\n",
       "</table>\n",
       "</div>"
      ],
      "text/plain": [
       "                             variable    coefficient\n",
       "22                 flat_model_Terrace  414332.653031\n",
       "10     flat_model_Improved-Maisonette  143494.544975\n",
       "24                 flat_model_Type S2  121885.556601\n",
       "19      flat_model_Premium Maisonette  110935.457333\n",
       "8                     flat_model_DBSS  108257.267751\n",
       "13      flat_model_Model A-Maisonette   94840.943084\n",
       "50                     central_or_not   84449.448514\n",
       "5          flat_type_MULTI-GENERATION   72687.271936\n",
       "15        flat_model_Multi Generation   72687.271936\n",
       "6            flat_model_Adjoined flat   70720.889112\n",
       "18  flat_model_Premium Apartment Loft   68261.984267\n",
       "11              flat_model_Maisonette   49897.351918\n",
       "2                    flat_type_4 ROOM   39836.615489\n",
       "4                 flat_type_EXECUTIVE   35409.359175\n",
       "3                    flat_type_5 ROOM   35032.793182\n",
       "23                 flat_model_Type S1   32281.269300\n",
       "1                    flat_type_3 ROOM   28556.847789\n",
       "27                    tranc_year_2013   14102.171375\n",
       "51                      max_floor_lvl    6324.313745\n",
       "46                     tranc_month_12    4318.042427\n",
       "0                    flat_type_2 ROOM    2437.624942\n",
       "36                      tranc_month_2    2152.174924\n",
       "44                     tranc_month_10    1641.038400\n",
       "45                     tranc_month_11    1550.124644\n",
       "37                      tranc_month_3    1239.842062\n",
       "39                      tranc_month_5    1208.984478\n",
       "38                      tranc_month_4     761.663539\n",
       "49                    floor_area_sqft     317.442291\n",
       "41                      tranc_month_7     300.407315\n",
       "47              mall_nearest_distance      10.995597\n",
       "52            hawker_nearest_distance     -18.370460\n",
       "53               mrt_nearest_distance     -46.536592\n",
       "43                      tranc_month_9     -77.045565\n",
       "40                      tranc_month_6    -283.284333\n",
       "42                      tranc_month_8    -406.321539\n",
       "48                            hdb_age   -2267.646307\n",
       "35                    tranc_year_2021   -4208.375409\n",
       "7                flat_model_Apartment   -8664.039163\n",
       "21                flat_model_Standard   -9086.115523\n",
       "28                    tranc_year_2014  -14328.222177\n",
       "20              flat_model_Simplified  -21639.949728\n",
       "26                    floor_range_mid  -30944.103796\n",
       "16          flat_model_New Generation  -31491.250143\n",
       "29                    tranc_year_2015  -32542.874829\n",
       "30                    tranc_year_2016  -33801.344413\n",
       "34                    tranc_year_2020  -36039.566031\n",
       "9                 flat_model_Improved  -36288.726599\n",
       "31                    tranc_year_2017  -36905.306471\n",
       "17       flat_model_Premium Apartment  -42959.006352\n",
       "32                    tranc_year_2018  -45133.043992\n",
       "33                    tranc_year_2019  -48867.180518\n",
       "12                 flat_model_Model A  -53379.017897\n",
       "25                    floor_range_low  -75298.807070\n",
       "14                flat_model_Model A2  -84133.061155"
      ]
     },
     "execution_count": 22,
     "metadata": {},
     "output_type": "execute_result"
    }
   ],
   "source": [
    "model_coef"
   ]
  }
 ],
 "metadata": {
  "kernelspec": {
   "display_name": "Python [conda env:dsi-sg]",
   "language": "python",
   "name": "conda-env-dsi-sg-py"
  },
  "language_info": {
   "codemirror_mode": {
    "name": "ipython",
    "version": 3
   },
   "file_extension": ".py",
   "mimetype": "text/x-python",
   "name": "python",
   "nbconvert_exporter": "python",
   "pygments_lexer": "ipython3",
   "version": "3.9.13"
  }
 },
 "nbformat": 4,
 "nbformat_minor": 5
}
